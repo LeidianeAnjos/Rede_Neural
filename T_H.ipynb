{
  "nbformat": 4,
  "nbformat_minor": 0,
  "metadata": {
    "colab": {
      "provenance": [],
      "authorship_tag": "ABX9TyNCHKHZXRVCQOgr3NU64J48",
      "include_colab_link": true
    },
    "kernelspec": {
      "name": "python3",
      "display_name": "Python 3"
    },
    "language_info": {
      "name": "python"
    }
  },
  "cells": [
    {
      "cell_type": "markdown",
      "metadata": {
        "id": "view-in-github",
        "colab_type": "text"
      },
      "source": [
        "<a href=\"https://colab.research.google.com/github/LeidianeAnjos/Rede_Neural/blob/main/T_H.ipynb\" target=\"_parent\"><img src=\"https://colab.research.google.com/assets/colab-badge.svg\" alt=\"Open In Colab\"/></a>"
      ]
    },
    {
      "cell_type": "code",
      "execution_count": 23,
      "metadata": {
        "id": "6vmx7r6rFGOK"
      },
      "outputs": [],
      "source": [
        "import numpy as np\n",
        "import matplotlib.pyplot as plt"
      ]
    },
    {
      "cell_type": "code",
      "source": [
        "T = np.array([\n",
        "    [1, 1, 1],\n",
        "    [0, 1, 0],\n",
        "    [0, 1, 0]\n",
        "])\n",
        "\n",
        "H = np.array([\n",
        "    [1, 0, 1],\n",
        "    [1, 1, 1],\n",
        "    [1, 0, 1]\n",
        "])"
      ],
      "metadata": {
        "id": "DB6zqdd6FTjg"
      },
      "execution_count": 24,
      "outputs": []
    },
    {
      "cell_type": "code",
      "source": [
        "# Flatten: transforma 3x3 em vetor 1x9\n",
        "x_T = T.flatten()\n",
        "x_H = H.flatten()"
      ],
      "metadata": {
        "id": "8WVHMlm5FY_n"
      },
      "execution_count": 25,
      "outputs": []
    },
    {
      "cell_type": "code",
      "source": [
        "# Entradas e saídas / A saída esperada é: 1 para \"T\", 0 para \"H\".\n",
        "entradas = np.array([x_T, x_H])    # duas amostras: T e H\n",
        "saidas = np.array([[1], [0]])      # T → 1, H → 0"
      ],
      "metadata": {
        "id": "tAfDJgXYFje4"
      },
      "execution_count": 26,
      "outputs": []
    },
    {
      "cell_type": "code",
      "source": [
        "#Funções sigmoide e derivada\n",
        "#sigmoid(x) transforma qualquer número real em algo entre 0 e 1.\n",
        "\n",
        "def sigmoid(x):\n",
        "    return 1 / (1 + np.exp(-x))\n",
        "\n",
        "\n",
        "# Derivada usada para ajustar os pesos no treinamento (relação com o\n",
        "# gradiente).\n",
        "def sigmoid_derivada(x):\n",
        "    sx = sigmoid(x)\n",
        "    return sx * (1 - sx)\n"
      ],
      "metadata": {
        "id": "mtUcdACRFsan"
      },
      "execution_count": 27,
      "outputs": []
    },
    {
      "cell_type": "code",
      "source": [
        "# Inicialização dos pesos e bias\n",
        "np.random.seed(42) #Isso trava a \"aleatoriedade\".\n",
        "pesos = np.random.randn(9, 1)       # 9 entradas (3x3), 1 saída\n",
        "bias = np.random.randn(1, 1)        #  número extra que o neurônio adiciona à conta final antes de passar pela função sigmoide.\n"
      ],
      "metadata": {
        "id": "1MvEGMdtF1Yf"
      },
      "execution_count": 28,
      "outputs": []
    },
    {
      "cell_type": "code",
      "source": [
        "# Hiperparâmetros\n",
        "taxa_aprendizado = 0.5\n",
        "epocas = 1000\n",
        "erros = []"
      ],
      "metadata": {
        "id": "tuhJoB-MF_jI"
      },
      "execution_count": 29,
      "outputs": []
    },
    {
      "cell_type": "markdown",
      "source": [
        "Aprendizado supervisionado /"
      ],
      "metadata": {
        "id": "fTJS5enQWXEN"
      }
    },
    {
      "cell_type": "code",
      "source": [
        "# Treinamento com Regra Delta ---\n",
        "for epoca in range(epocas):\n",
        "    erro_total = 0\n",
        "    for i in range(len(entradas)):\n",
        "        x = entradas[i].reshape(1, 9)      # transforma entrada em vetor linha\n",
        "        y = saidas[i]\n",
        "\n",
        "        # Feedforward\n",
        "        z = np.dot(x, pesos) + bias\n",
        "        y_pred = sigmoid(z)\n",
        "\n",
        "        # Cálculo do erro\n",
        "        erro = y - y_pred\n",
        "        erro_total += (erro ** 2).mean()\n",
        "\n",
        "        # Gradiente (regra delta)\n",
        "        grad = erro * sigmoid_derivada(z)\n",
        "        pesos += taxa_aprendizado * x.T @ grad\n",
        "        bias += taxa_aprendizado * grad   # corrigido para shapes compatíveis\n",
        "\n",
        "    erros.append(erro_total)"
      ],
      "metadata": {
        "id": "XbzahuU_GGN_"
      },
      "execution_count": 30,
      "outputs": []
    },
    {
      "cell_type": "code",
      "source": [
        "#Curva de erro\n",
        "plt.plot(erros)\n",
        "plt.title(\"Curva de Erro durante o Aprendizado\")\n",
        "plt.xlabel(\"Época\")\n",
        "plt.ylabel(\"Erro Quadrático Médio\")\n",
        "plt.grid(True)\n",
        "plt.show()\n"
      ],
      "metadata": {
        "colab": {
          "base_uri": "https://localhost:8080/",
          "height": 474
        },
        "id": "CANaFdGEGPjn",
        "outputId": "841a0bb3-b31d-4dfc-a9c8-3048e24da509"
      },
      "execution_count": 31,
      "outputs": [
        {
          "output_type": "display_data",
          "data": {
            "text/plain": [
              "<Figure size 640x480 with 1 Axes>"
            ],
            "image/png": "[encoded data removed]"
          },
          "metadata": {}
        }
      ]
    },
    {
      "cell_type": "code",
      "source": [
        "# Função para prever ---\n",
        "def prever(caractere):\n",
        "    x = caractere.flatten().reshape(1, 9)\n",
        "    z = np.dot(x, pesos) + bias\n",
        "    y_pred = sigmoid(z)\n",
        "    return y_pred[0][0]\n",
        "\n",
        "# Testes com T e H originais\n",
        "saida_T = prever(T)\n",
        "saida_H = prever(H)\n",
        "\n",
        "# --- 7. Testes com distorções ---\n",
        "T_distorcido = T.copy()\n",
        "T_distorcido[2, 1] = 0  # remove um pixel central inferior\n",
        "\n",
        "H_distorcido = H.copy()\n",
        "H_distorcido[0, 0] = 0  # remove um pixel no canto superior esquerdo\n",
        "\n",
        "saida_T_distorcido = prever(T_distorcido)\n",
        "saida_H_distorcido = prever(H_distorcido)\n",
        "\n",
        "(saida_T, saida_H, saida_T_distorcido, saida_H_distorcido)"
      ],
      "metadata": {
        "colab": {
          "base_uri": "https://localhost:8080/"
        },
        "id": "f0tq8mSvGdBY",
        "outputId": "70c4b007-3107-4c7f-d378-ba7327b44d88"
      },
      "execution_count": 32,
      "outputs": [
        {
          "output_type": "execute_result",
          "data": {
            "text/plain": [
              "(np.float64(0.9797202654149049),\n",
              " np.float64(0.018467984673325548),\n",
              " np.float64(0.8433316814417872),\n",
              " np.float64(0.014698301114578462))"
            ]
          },
          "metadata": {},
          "execution_count": 32
        }
      ]
    },
    {
      "cell_type": "code",
      "source": [
        "# Interpretação dos resultados\n",
        "\n",
        "def interpretar_saida(valor, limiar=0.5):\n",
        "    \"\"\"Interpreta a saída do neurônio\"\"\"\n",
        "    if valor >= limiar:\n",
        "        return \"Reconhecido como T\"\n",
        "    else:\n",
        "        return \"Reconhecido como H\"\n",
        "\n",
        "# Teste com T original\n",
        "print(\"Teste com T original:\")\n",
        "print(f\"Saída: {saida_T:.4f} → {interpretar_saida(saida_T)}\\n\")\n",
        "\n",
        "# Teste com H original\n",
        "print(\"Teste com H original:\")\n",
        "print(f\"Saída: {saida_H:.4f} → {interpretar_saida(saida_H)}\\n\")\n",
        "\n",
        "# Teste com T -> distorcido\n",
        "print(\"Teste com T distorcido:\")\n",
        "print(f\"Saída: {saida_T_distorcido:.4f} → {interpretar_saida(saida_T_distorcido)}\\n\")\n",
        "\n",
        "# Teste com H -> distorcido\n",
        "print(\"Teste com H distorcido:\")\n",
        "print(f\"Saída: {saida_H_distorcido:.4f} → {interpretar_saida(saida_H_distorcido)}\\n\")\n"
      ],
      "metadata": {
        "colab": {
          "base_uri": "https://localhost:8080/"
        },
        "id": "Ah3m0KNfHTnY",
        "outputId": "4b764f42-5d25-4300-b925-abaacc015aae"
      },
      "execution_count": 33,
      "outputs": [
        {
          "output_type": "stream",
          "name": "stdout",
          "text": [
            "Teste com T original:\n",
            "Saída: 0.9797 → Reconhecido como T\n",
            "\n",
            "Teste com H original:\n",
            "Saída: 0.0185 → Reconhecido como H\n",
            "\n",
            "Teste com T distorcido:\n",
            "Saída: 0.8433 → Reconhecido como T\n",
            "\n",
            "Teste com H distorcido:\n",
            "Saída: 0.0147 → Reconhecido como H\n",
            "\n"
          ]
        }
      ]
    }
  ]
}